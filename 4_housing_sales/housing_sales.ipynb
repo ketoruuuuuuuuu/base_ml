{
 "cells": [
  {
   "cell_type": "code",
   "execution_count": 1,
   "metadata": {},
   "outputs": [],
   "source": [
    "import pandas as pd\n",
    "import numpy as np\n",
    "import pickle\n",
    "from sklearn.compose import ColumnTransformer\n",
    "from sklearn.pipeline import Pipeline\n",
    "from sklearn.preprocessing import StandardScaler\n",
    "from sklearn.preprocessing import OneHotEncoder\n",
    "from sklearn.linear_model import SGDRegressor\n",
    "from sklearn.model_selection import train_test_split, GridSearchCV\n",
    "from sklearn.base import BaseEstimator, TransformerMixin\n",
    "from sklearn import tree, ensemble\n",
    "import catboost as ct"
   ]
  },
  {
   "cell_type": "code",
   "execution_count": 2,
   "metadata": {},
   "outputs": [
    {
     "data": {
      "text/html": [
       "<div>\n",
       "<style scoped>\n",
       "    .dataframe tbody tr th:only-of-type {\n",
       "        vertical-align: middle;\n",
       "    }\n",
       "\n",
       "    .dataframe tbody tr th {\n",
       "        vertical-align: top;\n",
       "    }\n",
       "\n",
       "    .dataframe thead th {\n",
       "        text-align: right;\n",
       "    }\n",
       "</style>\n",
       "<table border=\"1\" class=\"dataframe\">\n",
       "  <thead>\n",
       "    <tr style=\"text-align: right;\">\n",
       "      <th></th>\n",
       "      <th>price</th>\n",
       "      <th>area</th>\n",
       "      <th>bedrooms</th>\n",
       "      <th>bathrooms</th>\n",
       "      <th>stories</th>\n",
       "      <th>mainroad</th>\n",
       "      <th>guestroom</th>\n",
       "      <th>basement</th>\n",
       "      <th>hotwaterheating</th>\n",
       "      <th>airconditioning</th>\n",
       "      <th>parking</th>\n",
       "      <th>prefarea</th>\n",
       "      <th>furnishingstatus</th>\n",
       "    </tr>\n",
       "  </thead>\n",
       "  <tbody>\n",
       "    <tr>\n",
       "      <th>0</th>\n",
       "      <td>13300000</td>\n",
       "      <td>7420</td>\n",
       "      <td>4</td>\n",
       "      <td>2</td>\n",
       "      <td>3</td>\n",
       "      <td>yes</td>\n",
       "      <td>no</td>\n",
       "      <td>no</td>\n",
       "      <td>no</td>\n",
       "      <td>yes</td>\n",
       "      <td>2</td>\n",
       "      <td>yes</td>\n",
       "      <td>furnished</td>\n",
       "    </tr>\n",
       "    <tr>\n",
       "      <th>1</th>\n",
       "      <td>12250000</td>\n",
       "      <td>8960</td>\n",
       "      <td>4</td>\n",
       "      <td>4</td>\n",
       "      <td>4</td>\n",
       "      <td>yes</td>\n",
       "      <td>no</td>\n",
       "      <td>no</td>\n",
       "      <td>no</td>\n",
       "      <td>yes</td>\n",
       "      <td>3</td>\n",
       "      <td>no</td>\n",
       "      <td>furnished</td>\n",
       "    </tr>\n",
       "    <tr>\n",
       "      <th>2</th>\n",
       "      <td>12250000</td>\n",
       "      <td>9960</td>\n",
       "      <td>3</td>\n",
       "      <td>2</td>\n",
       "      <td>2</td>\n",
       "      <td>yes</td>\n",
       "      <td>no</td>\n",
       "      <td>yes</td>\n",
       "      <td>no</td>\n",
       "      <td>no</td>\n",
       "      <td>2</td>\n",
       "      <td>yes</td>\n",
       "      <td>semi-furnished</td>\n",
       "    </tr>\n",
       "    <tr>\n",
       "      <th>3</th>\n",
       "      <td>12215000</td>\n",
       "      <td>7500</td>\n",
       "      <td>4</td>\n",
       "      <td>2</td>\n",
       "      <td>2</td>\n",
       "      <td>yes</td>\n",
       "      <td>no</td>\n",
       "      <td>yes</td>\n",
       "      <td>no</td>\n",
       "      <td>yes</td>\n",
       "      <td>3</td>\n",
       "      <td>yes</td>\n",
       "      <td>furnished</td>\n",
       "    </tr>\n",
       "    <tr>\n",
       "      <th>4</th>\n",
       "      <td>11410000</td>\n",
       "      <td>7420</td>\n",
       "      <td>4</td>\n",
       "      <td>1</td>\n",
       "      <td>2</td>\n",
       "      <td>yes</td>\n",
       "      <td>yes</td>\n",
       "      <td>yes</td>\n",
       "      <td>no</td>\n",
       "      <td>yes</td>\n",
       "      <td>2</td>\n",
       "      <td>no</td>\n",
       "      <td>furnished</td>\n",
       "    </tr>\n",
       "  </tbody>\n",
       "</table>\n",
       "</div>"
      ],
      "text/plain": [
       "      price  area  bedrooms  bathrooms  stories mainroad guestroom basement  \\\n",
       "0  13300000  7420         4          2        3      yes        no       no   \n",
       "1  12250000  8960         4          4        4      yes        no       no   \n",
       "2  12250000  9960         3          2        2      yes        no      yes   \n",
       "3  12215000  7500         4          2        2      yes        no      yes   \n",
       "4  11410000  7420         4          1        2      yes       yes      yes   \n",
       "\n",
       "  hotwaterheating airconditioning  parking prefarea furnishingstatus  \n",
       "0              no             yes        2      yes        furnished  \n",
       "1              no             yes        3       no        furnished  \n",
       "2              no              no        2      yes   semi-furnished  \n",
       "3              no             yes        3      yes        furnished  \n",
       "4              no             yes        2       no        furnished  "
      ]
     },
     "execution_count": 2,
     "metadata": {},
     "output_type": "execute_result"
    }
   ],
   "source": [
    "df3 = pd.read_csv('housing.csv')\n",
    "df3.head(5)"
   ]
  },
  {
   "cell_type": "markdown",
   "metadata": {},
   "source": [
    "---"
   ]
  },
  {
   "cell_type": "code",
   "execution_count": 3,
   "metadata": {},
   "outputs": [],
   "source": [
    "X = df3.drop('price',axis = 1)\n",
    "y = df3['price']"
   ]
  },
  {
   "cell_type": "code",
   "execution_count": 4,
   "metadata": {},
   "outputs": [
    {
     "name": "stdout",
     "output_type": "stream",
     "text": [
      "(545, 12) \n",
      " (545,)\n"
     ]
    }
   ],
   "source": [
    "print(X.shape,'\\n',y.shape)"
   ]
  },
  {
   "cell_type": "code",
   "execution_count": 5,
   "metadata": {},
   "outputs": [],
   "source": [
    "X_train, X_test, y_train, y_test = train_test_split(X,y, test_size= 0.3,random_state= 1)"
   ]
  },
  {
   "cell_type": "code",
   "execution_count": 6,
   "metadata": {},
   "outputs": [],
   "source": [
    "class BinaryEncoder(BaseEstimator, TransformerMixin):\n",
    "    def __init__(self, binary_columns):\n",
    "        self.binary_columns = binary_columns\n",
    "\n",
    "    def fit(self, X, y=None):\n",
    "        return self\n",
    "\n",
    "    def transform(self, X):\n",
    "        X_transformed = X.copy()\n",
    "        for column in self.binary_columns:\n",
    "            X_transformed[column] = X_transformed[column].apply(lambda a: 1 if a == \"yes\" else 0)\n",
    "        return X_transformed"
   ]
  },
  {
   "cell_type": "code",
   "execution_count": 7,
   "metadata": {},
   "outputs": [
    {
     "data": {
      "text/plain": [
       "['mainroad',\n",
       " 'guestroom',\n",
       " 'basement',\n",
       " 'hotwaterheating',\n",
       " 'airconditioning',\n",
       " 'prefarea']"
      ]
     },
     "execution_count": 7,
     "metadata": {},
     "output_type": "execute_result"
    }
   ],
   "source": [
    "binary_columns = list(X_train.select_dtypes(exclude=[np.number]).columns)\n",
    "binary_columns.remove(\"furnishingstatus\")\n",
    "binary_columns"
   ]
  },
  {
   "cell_type": "code",
   "execution_count": 8,
   "metadata": {},
   "outputs": [
    {
     "data": {
      "text/plain": [
       "['area', 'bedrooms', 'bathrooms', 'stories', 'parking']"
      ]
     },
     "execution_count": 8,
     "metadata": {},
     "output_type": "execute_result"
    }
   ],
   "source": [
    "num_columns = list(X_train.select_dtypes(include=[np.number]).columns)\n",
    "num_columns"
   ]
  },
  {
   "cell_type": "code",
   "execution_count": 9,
   "metadata": {},
   "outputs": [],
   "source": [
    "preprocessor = ColumnTransformer(\n",
    "    transformers=[\n",
    "        ('binary', BinaryEncoder(binary_columns), binary_columns),\n",
    "        ('cat', OneHotEncoder(), [\"furnishingstatus\"]),\n",
    "        ('num', StandardScaler(), num_columns)\n",
    "    ])"
   ]
  },
  {
   "cell_type": "code",
   "execution_count": 10,
   "metadata": {},
   "outputs": [],
   "source": [
    "sgd_regressor = SGDRegressor(penalty='l2', alpha=0.0005, random_state=2)\n",
    "pipeline = Pipeline(steps=[('preprocessor', preprocessor), \n",
    "                           ('regressor', sgd_regressor)])"
   ]
  },
  {
   "cell_type": "code",
   "execution_count": 11,
   "metadata": {},
   "outputs": [],
   "source": [
    "param_grid = [\n",
    "    {\n",
    "        'preprocessor__num__with_mean': [True, False],\n",
    "        'regressor': [tree.DecisionTreeRegressor(random_state=1)],\n",
    "        'regressor__max_depth': [None,5,7,10,15]\n",
    "    },\n",
    "    {\n",
    "        'preprocessor__num__with_mean': [True, False],\n",
    "        'regressor': [ensemble.RandomForestRegressor(random_state=1, n_jobs=-1)],\n",
    "        'regressor__n_estimators': [25,50,75,100],\n",
    "        'regressor__max_depth': [None,5,7,10,15],\n",
    "        'regressor__min_samples_leaf': [1,3,5],\n",
    "    },\n",
    "    {\n",
    "        'preprocessor__num__with_mean': [True, False],\n",
    "        'regressor': [ct.CatBoostRegressor(random_state=1, allow_writing_files=False, thread_count=-1, verbose=False)],\n",
    "        'regressor__max_depth': [8,7,6, 5, 4, 3]\n",
    "    },\n",
    "    {\n",
    "        'preprocessor__num__with_mean': [True]\n",
    "        # здесь наш дефолт пайплайна - сгдРегрессор\n",
    "    }\n",
    "]"
   ]
  },
  {
   "cell_type": "code",
   "execution_count": 12,
   "metadata": {},
   "outputs": [],
   "source": [
    "X_grid = pd.concat([X_train, X_test], ignore_index=True)\n",
    "y_grid = pd.concat([y_train, y_test], ignore_index=True)\n",
    "\n",
    "grid_search = GridSearchCV(pipeline, param_grid, cv=([(list(range(len(X_train))), list(range(len(X_train), len(X_grid))))]), \n",
    "                           scoring='neg_mean_absolute_error')"
   ]
  },
  {
   "cell_type": "code",
   "execution_count": 13,
   "metadata": {},
   "outputs": [
    {
     "data": {
      "text/html": [
       "<style>#sk-container-id-1 {color: black;}#sk-container-id-1 pre{padding: 0;}#sk-container-id-1 div.sk-toggleable {background-color: white;}#sk-container-id-1 label.sk-toggleable__label {cursor: pointer;display: block;width: 100%;margin-bottom: 0;padding: 0.3em;box-sizing: border-box;text-align: center;}#sk-container-id-1 label.sk-toggleable__label-arrow:before {content: \"▸\";float: left;margin-right: 0.25em;color: #696969;}#sk-container-id-1 label.sk-toggleable__label-arrow:hover:before {color: black;}#sk-container-id-1 div.sk-estimator:hover label.sk-toggleable__label-arrow:before {color: black;}#sk-container-id-1 div.sk-toggleable__content {max-height: 0;max-width: 0;overflow: hidden;text-align: left;background-color: #f0f8ff;}#sk-container-id-1 div.sk-toggleable__content pre {margin: 0.2em;color: black;border-radius: 0.25em;background-color: #f0f8ff;}#sk-container-id-1 input.sk-toggleable__control:checked~div.sk-toggleable__content {max-height: 200px;max-width: 100%;overflow: auto;}#sk-container-id-1 input.sk-toggleable__control:checked~label.sk-toggleable__label-arrow:before {content: \"▾\";}#sk-container-id-1 div.sk-estimator input.sk-toggleable__control:checked~label.sk-toggleable__label {background-color: #d4ebff;}#sk-container-id-1 div.sk-label input.sk-toggleable__control:checked~label.sk-toggleable__label {background-color: #d4ebff;}#sk-container-id-1 input.sk-hidden--visually {border: 0;clip: rect(1px 1px 1px 1px);clip: rect(1px, 1px, 1px, 1px);height: 1px;margin: -1px;overflow: hidden;padding: 0;position: absolute;width: 1px;}#sk-container-id-1 div.sk-estimator {font-family: monospace;background-color: #f0f8ff;border: 1px dotted black;border-radius: 0.25em;box-sizing: border-box;margin-bottom: 0.5em;}#sk-container-id-1 div.sk-estimator:hover {background-color: #d4ebff;}#sk-container-id-1 div.sk-parallel-item::after {content: \"\";width: 100%;border-bottom: 1px solid gray;flex-grow: 1;}#sk-container-id-1 div.sk-label:hover label.sk-toggleable__label {background-color: #d4ebff;}#sk-container-id-1 div.sk-serial::before {content: \"\";position: absolute;border-left: 1px solid gray;box-sizing: border-box;top: 0;bottom: 0;left: 50%;z-index: 0;}#sk-container-id-1 div.sk-serial {display: flex;flex-direction: column;align-items: center;background-color: white;padding-right: 0.2em;padding-left: 0.2em;position: relative;}#sk-container-id-1 div.sk-item {position: relative;z-index: 1;}#sk-container-id-1 div.sk-parallel {display: flex;align-items: stretch;justify-content: center;background-color: white;position: relative;}#sk-container-id-1 div.sk-item::before, #sk-container-id-1 div.sk-parallel-item::before {content: \"\";position: absolute;border-left: 1px solid gray;box-sizing: border-box;top: 0;bottom: 0;left: 50%;z-index: -1;}#sk-container-id-1 div.sk-parallel-item {display: flex;flex-direction: column;z-index: 1;position: relative;background-color: white;}#sk-container-id-1 div.sk-parallel-item:first-child::after {align-self: flex-end;width: 50%;}#sk-container-id-1 div.sk-parallel-item:last-child::after {align-self: flex-start;width: 50%;}#sk-container-id-1 div.sk-parallel-item:only-child::after {width: 0;}#sk-container-id-1 div.sk-dashed-wrapped {border: 1px dashed gray;margin: 0 0.4em 0.5em 0.4em;box-sizing: border-box;padding-bottom: 0.4em;background-color: white;}#sk-container-id-1 div.sk-label label {font-family: monospace;font-weight: bold;display: inline-block;line-height: 1.2em;}#sk-container-id-1 div.sk-label-container {text-align: center;}#sk-container-id-1 div.sk-container {/* jupyter's `normalize.less` sets `[hidden] { display: none; }` but bootstrap.min.css set `[hidden] { display: none !important; }` so we also need the `!important` here to be able to override the default hidden behavior on the sphinx rendered scikit-learn.org. See: https://github.com/scikit-learn/scikit-learn/issues/21755 */display: inline-block !important;position: relative;}#sk-container-id-1 div.sk-text-repr-fallback {display: none;}</style><div id=\"sk-container-id-1\" class=\"sk-top-container\"><div class=\"sk-text-repr-fallback\"><pre>GridSearchCV(cv=[([0, 1, 2, 3, 4, 5, 6, 7, 8, 9, 10, 11, 12, 13, 14, 15, 16, 17,\n",
       "                   18, 19, 20, 21, 22, 23, 24, 25, 26, 27, 28, 29, ...],\n",
       "                  [381, 382, 383, 384, 385, 386, 387, 388, 389, 390, 391, 392,\n",
       "                   393, 394, 395, 396, 397, 398, 399, 400, 401, 402, 403, 404,\n",
       "                   405, 406, 407, 408, 409, 410, ...])],\n",
       "             estimator=Pipeline(steps=[(&#x27;preprocessor&#x27;,\n",
       "                                        ColumnTransformer(transformers=[(&#x27;binary&#x27;,\n",
       "                                                                         BinaryEncoder(binary_columns=[&#x27;mai...\n",
       "                          &#x27;regressor__max_depth&#x27;: [None, 5, 7, 10, 15],\n",
       "                          &#x27;regressor__min_samples_leaf&#x27;: [1, 3, 5],\n",
       "                          &#x27;regressor__n_estimators&#x27;: [25, 50, 75, 100]},\n",
       "                         {&#x27;preprocessor__num__with_mean&#x27;: [True, False],\n",
       "                          &#x27;regressor&#x27;: [&lt;catboost.core.CatBoostRegressor object at 0x000001CC5E20CE50&gt;],\n",
       "                          &#x27;regressor__max_depth&#x27;: [8, 7, 6, 5, 4, 3]},\n",
       "                         {&#x27;preprocessor__num__with_mean&#x27;: [True]}],\n",
       "             scoring=&#x27;neg_mean_absolute_error&#x27;)</pre><b>In a Jupyter environment, please rerun this cell to show the HTML representation or trust the notebook. <br />On GitHub, the HTML representation is unable to render, please try loading this page with nbviewer.org.</b></div><div class=\"sk-container\" hidden><div class=\"sk-item sk-dashed-wrapped\"><div class=\"sk-label-container\"><div class=\"sk-label sk-toggleable\"><input class=\"sk-toggleable__control sk-hidden--visually\" id=\"sk-estimator-id-1\" type=\"checkbox\" ><label for=\"sk-estimator-id-1\" class=\"sk-toggleable__label sk-toggleable__label-arrow\">GridSearchCV</label><div class=\"sk-toggleable__content\"><pre>GridSearchCV(cv=[([0, 1, 2, 3, 4, 5, 6, 7, 8, 9, 10, 11, 12, 13, 14, 15, 16, 17,\n",
       "                   18, 19, 20, 21, 22, 23, 24, 25, 26, 27, 28, 29, ...],\n",
       "                  [381, 382, 383, 384, 385, 386, 387, 388, 389, 390, 391, 392,\n",
       "                   393, 394, 395, 396, 397, 398, 399, 400, 401, 402, 403, 404,\n",
       "                   405, 406, 407, 408, 409, 410, ...])],\n",
       "             estimator=Pipeline(steps=[(&#x27;preprocessor&#x27;,\n",
       "                                        ColumnTransformer(transformers=[(&#x27;binary&#x27;,\n",
       "                                                                         BinaryEncoder(binary_columns=[&#x27;mai...\n",
       "                          &#x27;regressor__max_depth&#x27;: [None, 5, 7, 10, 15],\n",
       "                          &#x27;regressor__min_samples_leaf&#x27;: [1, 3, 5],\n",
       "                          &#x27;regressor__n_estimators&#x27;: [25, 50, 75, 100]},\n",
       "                         {&#x27;preprocessor__num__with_mean&#x27;: [True, False],\n",
       "                          &#x27;regressor&#x27;: [&lt;catboost.core.CatBoostRegressor object at 0x000001CC5E20CE50&gt;],\n",
       "                          &#x27;regressor__max_depth&#x27;: [8, 7, 6, 5, 4, 3]},\n",
       "                         {&#x27;preprocessor__num__with_mean&#x27;: [True]}],\n",
       "             scoring=&#x27;neg_mean_absolute_error&#x27;)</pre></div></div></div><div class=\"sk-parallel\"><div class=\"sk-parallel-item\"><div class=\"sk-item\"><div class=\"sk-label-container\"><div class=\"sk-label sk-toggleable\"><input class=\"sk-toggleable__control sk-hidden--visually\" id=\"sk-estimator-id-2\" type=\"checkbox\" ><label for=\"sk-estimator-id-2\" class=\"sk-toggleable__label sk-toggleable__label-arrow\">estimator: Pipeline</label><div class=\"sk-toggleable__content\"><pre>Pipeline(steps=[(&#x27;preprocessor&#x27;,\n",
       "                 ColumnTransformer(transformers=[(&#x27;binary&#x27;,\n",
       "                                                  BinaryEncoder(binary_columns=[&#x27;mainroad&#x27;,\n",
       "                                                                                &#x27;guestroom&#x27;,\n",
       "                                                                                &#x27;basement&#x27;,\n",
       "                                                                                &#x27;hotwaterheating&#x27;,\n",
       "                                                                                &#x27;airconditioning&#x27;,\n",
       "                                                                                &#x27;prefarea&#x27;]),\n",
       "                                                  [&#x27;mainroad&#x27;, &#x27;guestroom&#x27;,\n",
       "                                                   &#x27;basement&#x27;,\n",
       "                                                   &#x27;hotwaterheating&#x27;,\n",
       "                                                   &#x27;airconditioning&#x27;,\n",
       "                                                   &#x27;prefarea&#x27;]),\n",
       "                                                 (&#x27;cat&#x27;, OneHotEncoder(),\n",
       "                                                  [&#x27;furnishingstatus&#x27;]),\n",
       "                                                 (&#x27;num&#x27;, StandardScaler(),\n",
       "                                                  [&#x27;area&#x27;, &#x27;bedrooms&#x27;,\n",
       "                                                   &#x27;bathrooms&#x27;, &#x27;stories&#x27;,\n",
       "                                                   &#x27;parking&#x27;])])),\n",
       "                (&#x27;regressor&#x27;, SGDRegressor(alpha=0.0005, random_state=2))])</pre></div></div></div><div class=\"sk-serial\"><div class=\"sk-item\"><div class=\"sk-serial\"><div class=\"sk-item sk-dashed-wrapped\"><div class=\"sk-label-container\"><div class=\"sk-label sk-toggleable\"><input class=\"sk-toggleable__control sk-hidden--visually\" id=\"sk-estimator-id-3\" type=\"checkbox\" ><label for=\"sk-estimator-id-3\" class=\"sk-toggleable__label sk-toggleable__label-arrow\">preprocessor: ColumnTransformer</label><div class=\"sk-toggleable__content\"><pre>ColumnTransformer(transformers=[(&#x27;binary&#x27;,\n",
       "                                 BinaryEncoder(binary_columns=[&#x27;mainroad&#x27;,\n",
       "                                                               &#x27;guestroom&#x27;,\n",
       "                                                               &#x27;basement&#x27;,\n",
       "                                                               &#x27;hotwaterheating&#x27;,\n",
       "                                                               &#x27;airconditioning&#x27;,\n",
       "                                                               &#x27;prefarea&#x27;]),\n",
       "                                 [&#x27;mainroad&#x27;, &#x27;guestroom&#x27;, &#x27;basement&#x27;,\n",
       "                                  &#x27;hotwaterheating&#x27;, &#x27;airconditioning&#x27;,\n",
       "                                  &#x27;prefarea&#x27;]),\n",
       "                                (&#x27;cat&#x27;, OneHotEncoder(), [&#x27;furnishingstatus&#x27;]),\n",
       "                                (&#x27;num&#x27;, StandardScaler(),\n",
       "                                 [&#x27;area&#x27;, &#x27;bedrooms&#x27;, &#x27;bathrooms&#x27;, &#x27;stories&#x27;,\n",
       "                                  &#x27;parking&#x27;])])</pre></div></div></div><div class=\"sk-parallel\"><div class=\"sk-parallel-item\"><div class=\"sk-item\"><div class=\"sk-label-container\"><div class=\"sk-label sk-toggleable\"><input class=\"sk-toggleable__control sk-hidden--visually\" id=\"sk-estimator-id-4\" type=\"checkbox\" ><label for=\"sk-estimator-id-4\" class=\"sk-toggleable__label sk-toggleable__label-arrow\">binary</label><div class=\"sk-toggleable__content\"><pre>[&#x27;mainroad&#x27;, &#x27;guestroom&#x27;, &#x27;basement&#x27;, &#x27;hotwaterheating&#x27;, &#x27;airconditioning&#x27;, &#x27;prefarea&#x27;]</pre></div></div></div><div class=\"sk-serial\"><div class=\"sk-item\"><div class=\"sk-estimator sk-toggleable\"><input class=\"sk-toggleable__control sk-hidden--visually\" id=\"sk-estimator-id-5\" type=\"checkbox\" ><label for=\"sk-estimator-id-5\" class=\"sk-toggleable__label sk-toggleable__label-arrow\">BinaryEncoder</label><div class=\"sk-toggleable__content\"><pre>BinaryEncoder(binary_columns=[&#x27;mainroad&#x27;, &#x27;guestroom&#x27;, &#x27;basement&#x27;,\n",
       "                              &#x27;hotwaterheating&#x27;, &#x27;airconditioning&#x27;,\n",
       "                              &#x27;prefarea&#x27;])</pre></div></div></div></div></div></div><div class=\"sk-parallel-item\"><div class=\"sk-item\"><div class=\"sk-label-container\"><div class=\"sk-label sk-toggleable\"><input class=\"sk-toggleable__control sk-hidden--visually\" id=\"sk-estimator-id-6\" type=\"checkbox\" ><label for=\"sk-estimator-id-6\" class=\"sk-toggleable__label sk-toggleable__label-arrow\">cat</label><div class=\"sk-toggleable__content\"><pre>[&#x27;furnishingstatus&#x27;]</pre></div></div></div><div class=\"sk-serial\"><div class=\"sk-item\"><div class=\"sk-estimator sk-toggleable\"><input class=\"sk-toggleable__control sk-hidden--visually\" id=\"sk-estimator-id-7\" type=\"checkbox\" ><label for=\"sk-estimator-id-7\" class=\"sk-toggleable__label sk-toggleable__label-arrow\">OneHotEncoder</label><div class=\"sk-toggleable__content\"><pre>OneHotEncoder()</pre></div></div></div></div></div></div><div class=\"sk-parallel-item\"><div class=\"sk-item\"><div class=\"sk-label-container\"><div class=\"sk-label sk-toggleable\"><input class=\"sk-toggleable__control sk-hidden--visually\" id=\"sk-estimator-id-8\" type=\"checkbox\" ><label for=\"sk-estimator-id-8\" class=\"sk-toggleable__label sk-toggleable__label-arrow\">num</label><div class=\"sk-toggleable__content\"><pre>[&#x27;area&#x27;, &#x27;bedrooms&#x27;, &#x27;bathrooms&#x27;, &#x27;stories&#x27;, &#x27;parking&#x27;]</pre></div></div></div><div class=\"sk-serial\"><div class=\"sk-item\"><div class=\"sk-estimator sk-toggleable\"><input class=\"sk-toggleable__control sk-hidden--visually\" id=\"sk-estimator-id-9\" type=\"checkbox\" ><label for=\"sk-estimator-id-9\" class=\"sk-toggleable__label sk-toggleable__label-arrow\">StandardScaler</label><div class=\"sk-toggleable__content\"><pre>StandardScaler()</pre></div></div></div></div></div></div></div></div><div class=\"sk-item\"><div class=\"sk-estimator sk-toggleable\"><input class=\"sk-toggleable__control sk-hidden--visually\" id=\"sk-estimator-id-10\" type=\"checkbox\" ><label for=\"sk-estimator-id-10\" class=\"sk-toggleable__label sk-toggleable__label-arrow\">SGDRegressor</label><div class=\"sk-toggleable__content\"><pre>SGDRegressor(alpha=0.0005, random_state=2)</pre></div></div></div></div></div></div></div></div></div></div></div></div>"
      ],
      "text/plain": [
       "GridSearchCV(cv=[([0, 1, 2, 3, 4, 5, 6, 7, 8, 9, 10, 11, 12, 13, 14, 15, 16, 17,\n",
       "                   18, 19, 20, 21, 22, 23, 24, 25, 26, 27, 28, 29, ...],\n",
       "                  [381, 382, 383, 384, 385, 386, 387, 388, 389, 390, 391, 392,\n",
       "                   393, 394, 395, 396, 397, 398, 399, 400, 401, 402, 403, 404,\n",
       "                   405, 406, 407, 408, 409, 410, ...])],\n",
       "             estimator=Pipeline(steps=[('preprocessor',\n",
       "                                        ColumnTransformer(transformers=[('binary',\n",
       "                                                                         BinaryEncoder(binary_columns=['mai...\n",
       "                          'regressor__max_depth': [None, 5, 7, 10, 15],\n",
       "                          'regressor__min_samples_leaf': [1, 3, 5],\n",
       "                          'regressor__n_estimators': [25, 50, 75, 100]},\n",
       "                         {'preprocessor__num__with_mean': [True, False],\n",
       "                          'regressor': [<catboost.core.CatBoostRegressor object at 0x000001CC5E20CE50>],\n",
       "                          'regressor__max_depth': [8, 7, 6, 5, 4, 3]},\n",
       "                         {'preprocessor__num__with_mean': [True]}],\n",
       "             scoring='neg_mean_absolute_error')"
      ]
     },
     "execution_count": 13,
     "metadata": {},
     "output_type": "execute_result"
    }
   ],
   "source": [
    "grid_search.fit(X_grid, y_grid)"
   ]
  },
  {
   "cell_type": "code",
   "execution_count": 14,
   "metadata": {},
   "outputs": [
    {
     "data": {
      "text/plain": [
       "{'preprocessor__num__with_mean': True,\n",
       " 'regressor': <catboost.core.CatBoostRegressor at 0x1cc5e20ce50>,\n",
       " 'regressor__max_depth': 6}"
      ]
     },
     "execution_count": 14,
     "metadata": {},
     "output_type": "execute_result"
    }
   ],
   "source": [
    "grid_search.best_params_"
   ]
  },
  {
   "cell_type": "code",
   "execution_count": 15,
   "metadata": {},
   "outputs": [
    {
     "data": {
      "text/plain": [
       "-826044.8231762612"
      ]
     },
     "execution_count": 15,
     "metadata": {},
     "output_type": "execute_result"
    }
   ],
   "source": [
    "grid_search.best_score_"
   ]
  },
  {
   "cell_type": "code",
   "execution_count": 16,
   "metadata": {},
   "outputs": [
    {
     "data": {
      "text/html": [
       "<div>\n",
       "<style scoped>\n",
       "    .dataframe tbody tr th:only-of-type {\n",
       "        vertical-align: middle;\n",
       "    }\n",
       "\n",
       "    .dataframe tbody tr th {\n",
       "        vertical-align: top;\n",
       "    }\n",
       "\n",
       "    .dataframe thead th {\n",
       "        text-align: right;\n",
       "    }\n",
       "</style>\n",
       "<table border=\"1\" class=\"dataframe\">\n",
       "  <thead>\n",
       "    <tr style=\"text-align: right;\">\n",
       "      <th></th>\n",
       "      <th>mean_fit_time</th>\n",
       "      <th>std_fit_time</th>\n",
       "      <th>mean_score_time</th>\n",
       "      <th>std_score_time</th>\n",
       "      <th>param_preprocessor__num__with_mean</th>\n",
       "      <th>param_regressor</th>\n",
       "      <th>param_regressor__max_depth</th>\n",
       "      <th>param_regressor__min_samples_leaf</th>\n",
       "      <th>param_regressor__n_estimators</th>\n",
       "      <th>params</th>\n",
       "      <th>split0_test_score</th>\n",
       "      <th>mean_test_score</th>\n",
       "      <th>std_test_score</th>\n",
       "      <th>rank_test_score</th>\n",
       "    </tr>\n",
       "  </thead>\n",
       "  <tbody>\n",
       "    <tr>\n",
       "      <th>132</th>\n",
       "      <td>1.733828</td>\n",
       "      <td>0.0</td>\n",
       "      <td>0.015945</td>\n",
       "      <td>0.0</td>\n",
       "      <td>True</td>\n",
       "      <td>&lt;catboost.core.CatBoostRegressor object at 0x0...</td>\n",
       "      <td>6</td>\n",
       "      <td>NaN</td>\n",
       "      <td>NaN</td>\n",
       "      <td>{'preprocessor__num__with_mean': True, 'regres...</td>\n",
       "      <td>-826044.823176</td>\n",
       "      <td>-826044.823176</td>\n",
       "      <td>0.0</td>\n",
       "      <td>1</td>\n",
       "    </tr>\n",
       "    <tr>\n",
       "      <th>138</th>\n",
       "      <td>1.572101</td>\n",
       "      <td>0.0</td>\n",
       "      <td>0.017529</td>\n",
       "      <td>0.0</td>\n",
       "      <td>False</td>\n",
       "      <td>&lt;catboost.core.CatBoostRegressor object at 0x0...</td>\n",
       "      <td>6</td>\n",
       "      <td>NaN</td>\n",
       "      <td>NaN</td>\n",
       "      <td>{'preprocessor__num__with_mean': False, 'regre...</td>\n",
       "      <td>-826044.823176</td>\n",
       "      <td>-826044.823176</td>\n",
       "      <td>0.0</td>\n",
       "      <td>1</td>\n",
       "    </tr>\n",
       "    <tr>\n",
       "      <th>131</th>\n",
       "      <td>2.366719</td>\n",
       "      <td>0.0</td>\n",
       "      <td>0.016098</td>\n",
       "      <td>0.0</td>\n",
       "      <td>True</td>\n",
       "      <td>&lt;catboost.core.CatBoostRegressor object at 0x0...</td>\n",
       "      <td>7</td>\n",
       "      <td>NaN</td>\n",
       "      <td>NaN</td>\n",
       "      <td>{'preprocessor__num__with_mean': True, 'regres...</td>\n",
       "      <td>-834865.380809</td>\n",
       "      <td>-834865.380809</td>\n",
       "      <td>0.0</td>\n",
       "      <td>3</td>\n",
       "    </tr>\n",
       "    <tr>\n",
       "      <th>137</th>\n",
       "      <td>2.249304</td>\n",
       "      <td>0.0</td>\n",
       "      <td>0.014942</td>\n",
       "      <td>0.0</td>\n",
       "      <td>False</td>\n",
       "      <td>&lt;catboost.core.CatBoostRegressor object at 0x0...</td>\n",
       "      <td>7</td>\n",
       "      <td>NaN</td>\n",
       "      <td>NaN</td>\n",
       "      <td>{'preprocessor__num__with_mean': False, 'regre...</td>\n",
       "      <td>-834865.380809</td>\n",
       "      <td>-834865.380809</td>\n",
       "      <td>0.0</td>\n",
       "      <td>3</td>\n",
       "    </tr>\n",
       "    <tr>\n",
       "      <th>135</th>\n",
       "      <td>0.618308</td>\n",
       "      <td>0.0</td>\n",
       "      <td>0.014950</td>\n",
       "      <td>0.0</td>\n",
       "      <td>True</td>\n",
       "      <td>&lt;catboost.core.CatBoostRegressor object at 0x0...</td>\n",
       "      <td>3</td>\n",
       "      <td>NaN</td>\n",
       "      <td>NaN</td>\n",
       "      <td>{'preprocessor__num__with_mean': True, 'regres...</td>\n",
       "      <td>-838052.584873</td>\n",
       "      <td>-838052.584873</td>\n",
       "      <td>0.0</td>\n",
       "      <td>5</td>\n",
       "    </tr>\n",
       "    <tr>\n",
       "      <th>141</th>\n",
       "      <td>0.579933</td>\n",
       "      <td>0.0</td>\n",
       "      <td>0.015947</td>\n",
       "      <td>0.0</td>\n",
       "      <td>False</td>\n",
       "      <td>&lt;catboost.core.CatBoostRegressor object at 0x0...</td>\n",
       "      <td>3</td>\n",
       "      <td>NaN</td>\n",
       "      <td>NaN</td>\n",
       "      <td>{'preprocessor__num__with_mean': False, 'regre...</td>\n",
       "      <td>-838052.584873</td>\n",
       "      <td>-838052.584873</td>\n",
       "      <td>0.0</td>\n",
       "      <td>5</td>\n",
       "    </tr>\n",
       "    <tr>\n",
       "      <th>134</th>\n",
       "      <td>0.814726</td>\n",
       "      <td>0.0</td>\n",
       "      <td>0.015946</td>\n",
       "      <td>0.0</td>\n",
       "      <td>True</td>\n",
       "      <td>&lt;catboost.core.CatBoostRegressor object at 0x0...</td>\n",
       "      <td>4</td>\n",
       "      <td>NaN</td>\n",
       "      <td>NaN</td>\n",
       "      <td>{'preprocessor__num__with_mean': True, 'regres...</td>\n",
       "      <td>-839966.339163</td>\n",
       "      <td>-839966.339163</td>\n",
       "      <td>0.0</td>\n",
       "      <td>7</td>\n",
       "    </tr>\n",
       "    <tr>\n",
       "      <th>140</th>\n",
       "      <td>0.765679</td>\n",
       "      <td>0.0</td>\n",
       "      <td>0.014364</td>\n",
       "      <td>0.0</td>\n",
       "      <td>False</td>\n",
       "      <td>&lt;catboost.core.CatBoostRegressor object at 0x0...</td>\n",
       "      <td>4</td>\n",
       "      <td>NaN</td>\n",
       "      <td>NaN</td>\n",
       "      <td>{'preprocessor__num__with_mean': False, 'regre...</td>\n",
       "      <td>-839966.339163</td>\n",
       "      <td>-839966.339163</td>\n",
       "      <td>0.0</td>\n",
       "      <td>7</td>\n",
       "    </tr>\n",
       "    <tr>\n",
       "      <th>130</th>\n",
       "      <td>3.897926</td>\n",
       "      <td>0.0</td>\n",
       "      <td>0.016470</td>\n",
       "      <td>0.0</td>\n",
       "      <td>True</td>\n",
       "      <td>&lt;catboost.core.CatBoostRegressor object at 0x0...</td>\n",
       "      <td>8</td>\n",
       "      <td>NaN</td>\n",
       "      <td>NaN</td>\n",
       "      <td>{'preprocessor__num__with_mean': True, 'regres...</td>\n",
       "      <td>-840910.670392</td>\n",
       "      <td>-840910.670392</td>\n",
       "      <td>0.0</td>\n",
       "      <td>9</td>\n",
       "    </tr>\n",
       "    <tr>\n",
       "      <th>136</th>\n",
       "      <td>3.551828</td>\n",
       "      <td>0.0</td>\n",
       "      <td>0.014950</td>\n",
       "      <td>0.0</td>\n",
       "      <td>False</td>\n",
       "      <td>&lt;catboost.core.CatBoostRegressor object at 0x0...</td>\n",
       "      <td>8</td>\n",
       "      <td>NaN</td>\n",
       "      <td>NaN</td>\n",
       "      <td>{'preprocessor__num__with_mean': False, 'regre...</td>\n",
       "      <td>-840910.670392</td>\n",
       "      <td>-840910.670392</td>\n",
       "      <td>0.0</td>\n",
       "      <td>9</td>\n",
       "    </tr>\n",
       "  </tbody>\n",
       "</table>\n",
       "</div>"
      ],
      "text/plain": [
       "     mean_fit_time  std_fit_time  mean_score_time  std_score_time  \\\n",
       "132       1.733828           0.0         0.015945             0.0   \n",
       "138       1.572101           0.0         0.017529             0.0   \n",
       "131       2.366719           0.0         0.016098             0.0   \n",
       "137       2.249304           0.0         0.014942             0.0   \n",
       "135       0.618308           0.0         0.014950             0.0   \n",
       "141       0.579933           0.0         0.015947             0.0   \n",
       "134       0.814726           0.0         0.015946             0.0   \n",
       "140       0.765679           0.0         0.014364             0.0   \n",
       "130       3.897926           0.0         0.016470             0.0   \n",
       "136       3.551828           0.0         0.014950             0.0   \n",
       "\n",
       "    param_preprocessor__num__with_mean  \\\n",
       "132                               True   \n",
       "138                              False   \n",
       "131                               True   \n",
       "137                              False   \n",
       "135                               True   \n",
       "141                              False   \n",
       "134                               True   \n",
       "140                              False   \n",
       "130                               True   \n",
       "136                              False   \n",
       "\n",
       "                                       param_regressor  \\\n",
       "132  <catboost.core.CatBoostRegressor object at 0x0...   \n",
       "138  <catboost.core.CatBoostRegressor object at 0x0...   \n",
       "131  <catboost.core.CatBoostRegressor object at 0x0...   \n",
       "137  <catboost.core.CatBoostRegressor object at 0x0...   \n",
       "135  <catboost.core.CatBoostRegressor object at 0x0...   \n",
       "141  <catboost.core.CatBoostRegressor object at 0x0...   \n",
       "134  <catboost.core.CatBoostRegressor object at 0x0...   \n",
       "140  <catboost.core.CatBoostRegressor object at 0x0...   \n",
       "130  <catboost.core.CatBoostRegressor object at 0x0...   \n",
       "136  <catboost.core.CatBoostRegressor object at 0x0...   \n",
       "\n",
       "    param_regressor__max_depth param_regressor__min_samples_leaf  \\\n",
       "132                          6                               NaN   \n",
       "138                          6                               NaN   \n",
       "131                          7                               NaN   \n",
       "137                          7                               NaN   \n",
       "135                          3                               NaN   \n",
       "141                          3                               NaN   \n",
       "134                          4                               NaN   \n",
       "140                          4                               NaN   \n",
       "130                          8                               NaN   \n",
       "136                          8                               NaN   \n",
       "\n",
       "    param_regressor__n_estimators  \\\n",
       "132                           NaN   \n",
       "138                           NaN   \n",
       "131                           NaN   \n",
       "137                           NaN   \n",
       "135                           NaN   \n",
       "141                           NaN   \n",
       "134                           NaN   \n",
       "140                           NaN   \n",
       "130                           NaN   \n",
       "136                           NaN   \n",
       "\n",
       "                                                params  split0_test_score  \\\n",
       "132  {'preprocessor__num__with_mean': True, 'regres...     -826044.823176   \n",
       "138  {'preprocessor__num__with_mean': False, 'regre...     -826044.823176   \n",
       "131  {'preprocessor__num__with_mean': True, 'regres...     -834865.380809   \n",
       "137  {'preprocessor__num__with_mean': False, 'regre...     -834865.380809   \n",
       "135  {'preprocessor__num__with_mean': True, 'regres...     -838052.584873   \n",
       "141  {'preprocessor__num__with_mean': False, 'regre...     -838052.584873   \n",
       "134  {'preprocessor__num__with_mean': True, 'regres...     -839966.339163   \n",
       "140  {'preprocessor__num__with_mean': False, 'regre...     -839966.339163   \n",
       "130  {'preprocessor__num__with_mean': True, 'regres...     -840910.670392   \n",
       "136  {'preprocessor__num__with_mean': False, 'regre...     -840910.670392   \n",
       "\n",
       "     mean_test_score  std_test_score  rank_test_score  \n",
       "132   -826044.823176             0.0                1  \n",
       "138   -826044.823176             0.0                1  \n",
       "131   -834865.380809             0.0                3  \n",
       "137   -834865.380809             0.0                3  \n",
       "135   -838052.584873             0.0                5  \n",
       "141   -838052.584873             0.0                5  \n",
       "134   -839966.339163             0.0                7  \n",
       "140   -839966.339163             0.0                7  \n",
       "130   -840910.670392             0.0                9  \n",
       "136   -840910.670392             0.0                9  "
      ]
     },
     "execution_count": 16,
     "metadata": {},
     "output_type": "execute_result"
    }
   ],
   "source": [
    "pd.DataFrame(grid_search.cv_results_).sort_values(\"rank_test_score\").head(10)"
   ]
  },
  {
   "cell_type": "code",
   "execution_count": 17,
   "metadata": {},
   "outputs": [
    {
     "data": {
      "text/html": [
       "<style>#sk-container-id-2 {color: black;}#sk-container-id-2 pre{padding: 0;}#sk-container-id-2 div.sk-toggleable {background-color: white;}#sk-container-id-2 label.sk-toggleable__label {cursor: pointer;display: block;width: 100%;margin-bottom: 0;padding: 0.3em;box-sizing: border-box;text-align: center;}#sk-container-id-2 label.sk-toggleable__label-arrow:before {content: \"▸\";float: left;margin-right: 0.25em;color: #696969;}#sk-container-id-2 label.sk-toggleable__label-arrow:hover:before {color: black;}#sk-container-id-2 div.sk-estimator:hover label.sk-toggleable__label-arrow:before {color: black;}#sk-container-id-2 div.sk-toggleable__content {max-height: 0;max-width: 0;overflow: hidden;text-align: left;background-color: #f0f8ff;}#sk-container-id-2 div.sk-toggleable__content pre {margin: 0.2em;color: black;border-radius: 0.25em;background-color: #f0f8ff;}#sk-container-id-2 input.sk-toggleable__control:checked~div.sk-toggleable__content {max-height: 200px;max-width: 100%;overflow: auto;}#sk-container-id-2 input.sk-toggleable__control:checked~label.sk-toggleable__label-arrow:before {content: \"▾\";}#sk-container-id-2 div.sk-estimator input.sk-toggleable__control:checked~label.sk-toggleable__label {background-color: #d4ebff;}#sk-container-id-2 div.sk-label input.sk-toggleable__control:checked~label.sk-toggleable__label {background-color: #d4ebff;}#sk-container-id-2 input.sk-hidden--visually {border: 0;clip: rect(1px 1px 1px 1px);clip: rect(1px, 1px, 1px, 1px);height: 1px;margin: -1px;overflow: hidden;padding: 0;position: absolute;width: 1px;}#sk-container-id-2 div.sk-estimator {font-family: monospace;background-color: #f0f8ff;border: 1px dotted black;border-radius: 0.25em;box-sizing: border-box;margin-bottom: 0.5em;}#sk-container-id-2 div.sk-estimator:hover {background-color: #d4ebff;}#sk-container-id-2 div.sk-parallel-item::after {content: \"\";width: 100%;border-bottom: 1px solid gray;flex-grow: 1;}#sk-container-id-2 div.sk-label:hover label.sk-toggleable__label {background-color: #d4ebff;}#sk-container-id-2 div.sk-serial::before {content: \"\";position: absolute;border-left: 1px solid gray;box-sizing: border-box;top: 0;bottom: 0;left: 50%;z-index: 0;}#sk-container-id-2 div.sk-serial {display: flex;flex-direction: column;align-items: center;background-color: white;padding-right: 0.2em;padding-left: 0.2em;position: relative;}#sk-container-id-2 div.sk-item {position: relative;z-index: 1;}#sk-container-id-2 div.sk-parallel {display: flex;align-items: stretch;justify-content: center;background-color: white;position: relative;}#sk-container-id-2 div.sk-item::before, #sk-container-id-2 div.sk-parallel-item::before {content: \"\";position: absolute;border-left: 1px solid gray;box-sizing: border-box;top: 0;bottom: 0;left: 50%;z-index: -1;}#sk-container-id-2 div.sk-parallel-item {display: flex;flex-direction: column;z-index: 1;position: relative;background-color: white;}#sk-container-id-2 div.sk-parallel-item:first-child::after {align-self: flex-end;width: 50%;}#sk-container-id-2 div.sk-parallel-item:last-child::after {align-self: flex-start;width: 50%;}#sk-container-id-2 div.sk-parallel-item:only-child::after {width: 0;}#sk-container-id-2 div.sk-dashed-wrapped {border: 1px dashed gray;margin: 0 0.4em 0.5em 0.4em;box-sizing: border-box;padding-bottom: 0.4em;background-color: white;}#sk-container-id-2 div.sk-label label {font-family: monospace;font-weight: bold;display: inline-block;line-height: 1.2em;}#sk-container-id-2 div.sk-label-container {text-align: center;}#sk-container-id-2 div.sk-container {/* jupyter's `normalize.less` sets `[hidden] { display: none; }` but bootstrap.min.css set `[hidden] { display: none !important; }` so we also need the `!important` here to be able to override the default hidden behavior on the sphinx rendered scikit-learn.org. See: https://github.com/scikit-learn/scikit-learn/issues/21755 */display: inline-block !important;position: relative;}#sk-container-id-2 div.sk-text-repr-fallback {display: none;}</style><div id=\"sk-container-id-2\" class=\"sk-top-container\"><div class=\"sk-text-repr-fallback\"><pre>Pipeline(steps=[(&#x27;preprocessor&#x27;,\n",
       "                 ColumnTransformer(transformers=[(&#x27;binary&#x27;,\n",
       "                                                  BinaryEncoder(binary_columns=[&#x27;mainroad&#x27;,\n",
       "                                                                                &#x27;guestroom&#x27;,\n",
       "                                                                                &#x27;basement&#x27;,\n",
       "                                                                                &#x27;hotwaterheating&#x27;,\n",
       "                                                                                &#x27;airconditioning&#x27;,\n",
       "                                                                                &#x27;prefarea&#x27;]),\n",
       "                                                  [&#x27;mainroad&#x27;, &#x27;guestroom&#x27;,\n",
       "                                                   &#x27;basement&#x27;,\n",
       "                                                   &#x27;hotwaterheating&#x27;,\n",
       "                                                   &#x27;airconditioning&#x27;,\n",
       "                                                   &#x27;prefarea&#x27;]),\n",
       "                                                 (&#x27;cat&#x27;, OneHotEncoder(),\n",
       "                                                  [&#x27;furnishingstatus&#x27;]),\n",
       "                                                 (&#x27;num&#x27;, StandardScaler(),\n",
       "                                                  [&#x27;area&#x27;, &#x27;bedrooms&#x27;,\n",
       "                                                   &#x27;bathrooms&#x27;, &#x27;stories&#x27;,\n",
       "                                                   &#x27;parking&#x27;])])),\n",
       "                (&#x27;regressor&#x27;,\n",
       "                 &lt;catboost.core.CatBoostRegressor object at 0x000001CC5E447F70&gt;)])</pre><b>In a Jupyter environment, please rerun this cell to show the HTML representation or trust the notebook. <br />On GitHub, the HTML representation is unable to render, please try loading this page with nbviewer.org.</b></div><div class=\"sk-container\" hidden><div class=\"sk-item sk-dashed-wrapped\"><div class=\"sk-label-container\"><div class=\"sk-label sk-toggleable\"><input class=\"sk-toggleable__control sk-hidden--visually\" id=\"sk-estimator-id-11\" type=\"checkbox\" ><label for=\"sk-estimator-id-11\" class=\"sk-toggleable__label sk-toggleable__label-arrow\">Pipeline</label><div class=\"sk-toggleable__content\"><pre>Pipeline(steps=[(&#x27;preprocessor&#x27;,\n",
       "                 ColumnTransformer(transformers=[(&#x27;binary&#x27;,\n",
       "                                                  BinaryEncoder(binary_columns=[&#x27;mainroad&#x27;,\n",
       "                                                                                &#x27;guestroom&#x27;,\n",
       "                                                                                &#x27;basement&#x27;,\n",
       "                                                                                &#x27;hotwaterheating&#x27;,\n",
       "                                                                                &#x27;airconditioning&#x27;,\n",
       "                                                                                &#x27;prefarea&#x27;]),\n",
       "                                                  [&#x27;mainroad&#x27;, &#x27;guestroom&#x27;,\n",
       "                                                   &#x27;basement&#x27;,\n",
       "                                                   &#x27;hotwaterheating&#x27;,\n",
       "                                                   &#x27;airconditioning&#x27;,\n",
       "                                                   &#x27;prefarea&#x27;]),\n",
       "                                                 (&#x27;cat&#x27;, OneHotEncoder(),\n",
       "                                                  [&#x27;furnishingstatus&#x27;]),\n",
       "                                                 (&#x27;num&#x27;, StandardScaler(),\n",
       "                                                  [&#x27;area&#x27;, &#x27;bedrooms&#x27;,\n",
       "                                                   &#x27;bathrooms&#x27;, &#x27;stories&#x27;,\n",
       "                                                   &#x27;parking&#x27;])])),\n",
       "                (&#x27;regressor&#x27;,\n",
       "                 &lt;catboost.core.CatBoostRegressor object at 0x000001CC5E447F70&gt;)])</pre></div></div></div><div class=\"sk-serial\"><div class=\"sk-item sk-dashed-wrapped\"><div class=\"sk-label-container\"><div class=\"sk-label sk-toggleable\"><input class=\"sk-toggleable__control sk-hidden--visually\" id=\"sk-estimator-id-12\" type=\"checkbox\" ><label for=\"sk-estimator-id-12\" class=\"sk-toggleable__label sk-toggleable__label-arrow\">preprocessor: ColumnTransformer</label><div class=\"sk-toggleable__content\"><pre>ColumnTransformer(transformers=[(&#x27;binary&#x27;,\n",
       "                                 BinaryEncoder(binary_columns=[&#x27;mainroad&#x27;,\n",
       "                                                               &#x27;guestroom&#x27;,\n",
       "                                                               &#x27;basement&#x27;,\n",
       "                                                               &#x27;hotwaterheating&#x27;,\n",
       "                                                               &#x27;airconditioning&#x27;,\n",
       "                                                               &#x27;prefarea&#x27;]),\n",
       "                                 [&#x27;mainroad&#x27;, &#x27;guestroom&#x27;, &#x27;basement&#x27;,\n",
       "                                  &#x27;hotwaterheating&#x27;, &#x27;airconditioning&#x27;,\n",
       "                                  &#x27;prefarea&#x27;]),\n",
       "                                (&#x27;cat&#x27;, OneHotEncoder(), [&#x27;furnishingstatus&#x27;]),\n",
       "                                (&#x27;num&#x27;, StandardScaler(),\n",
       "                                 [&#x27;area&#x27;, &#x27;bedrooms&#x27;, &#x27;bathrooms&#x27;, &#x27;stories&#x27;,\n",
       "                                  &#x27;parking&#x27;])])</pre></div></div></div><div class=\"sk-parallel\"><div class=\"sk-parallel-item\"><div class=\"sk-item\"><div class=\"sk-label-container\"><div class=\"sk-label sk-toggleable\"><input class=\"sk-toggleable__control sk-hidden--visually\" id=\"sk-estimator-id-13\" type=\"checkbox\" ><label for=\"sk-estimator-id-13\" class=\"sk-toggleable__label sk-toggleable__label-arrow\">binary</label><div class=\"sk-toggleable__content\"><pre>[&#x27;mainroad&#x27;, &#x27;guestroom&#x27;, &#x27;basement&#x27;, &#x27;hotwaterheating&#x27;, &#x27;airconditioning&#x27;, &#x27;prefarea&#x27;]</pre></div></div></div><div class=\"sk-serial\"><div class=\"sk-item\"><div class=\"sk-estimator sk-toggleable\"><input class=\"sk-toggleable__control sk-hidden--visually\" id=\"sk-estimator-id-14\" type=\"checkbox\" ><label for=\"sk-estimator-id-14\" class=\"sk-toggleable__label sk-toggleable__label-arrow\">BinaryEncoder</label><div class=\"sk-toggleable__content\"><pre>BinaryEncoder(binary_columns=[&#x27;mainroad&#x27;, &#x27;guestroom&#x27;, &#x27;basement&#x27;,\n",
       "                              &#x27;hotwaterheating&#x27;, &#x27;airconditioning&#x27;,\n",
       "                              &#x27;prefarea&#x27;])</pre></div></div></div></div></div></div><div class=\"sk-parallel-item\"><div class=\"sk-item\"><div class=\"sk-label-container\"><div class=\"sk-label sk-toggleable\"><input class=\"sk-toggleable__control sk-hidden--visually\" id=\"sk-estimator-id-15\" type=\"checkbox\" ><label for=\"sk-estimator-id-15\" class=\"sk-toggleable__label sk-toggleable__label-arrow\">cat</label><div class=\"sk-toggleable__content\"><pre>[&#x27;furnishingstatus&#x27;]</pre></div></div></div><div class=\"sk-serial\"><div class=\"sk-item\"><div class=\"sk-estimator sk-toggleable\"><input class=\"sk-toggleable__control sk-hidden--visually\" id=\"sk-estimator-id-16\" type=\"checkbox\" ><label for=\"sk-estimator-id-16\" class=\"sk-toggleable__label sk-toggleable__label-arrow\">OneHotEncoder</label><div class=\"sk-toggleable__content\"><pre>OneHotEncoder()</pre></div></div></div></div></div></div><div class=\"sk-parallel-item\"><div class=\"sk-item\"><div class=\"sk-label-container\"><div class=\"sk-label sk-toggleable\"><input class=\"sk-toggleable__control sk-hidden--visually\" id=\"sk-estimator-id-17\" type=\"checkbox\" ><label for=\"sk-estimator-id-17\" class=\"sk-toggleable__label sk-toggleable__label-arrow\">num</label><div class=\"sk-toggleable__content\"><pre>[&#x27;area&#x27;, &#x27;bedrooms&#x27;, &#x27;bathrooms&#x27;, &#x27;stories&#x27;, &#x27;parking&#x27;]</pre></div></div></div><div class=\"sk-serial\"><div class=\"sk-item\"><div class=\"sk-estimator sk-toggleable\"><input class=\"sk-toggleable__control sk-hidden--visually\" id=\"sk-estimator-id-18\" type=\"checkbox\" ><label for=\"sk-estimator-id-18\" class=\"sk-toggleable__label sk-toggleable__label-arrow\">StandardScaler</label><div class=\"sk-toggleable__content\"><pre>StandardScaler()</pre></div></div></div></div></div></div></div></div><div class=\"sk-item\"><div class=\"sk-estimator sk-toggleable\"><input class=\"sk-toggleable__control sk-hidden--visually\" id=\"sk-estimator-id-19\" type=\"checkbox\" ><label for=\"sk-estimator-id-19\" class=\"sk-toggleable__label sk-toggleable__label-arrow\">CatBoostRegressor</label><div class=\"sk-toggleable__content\"><pre>&lt;catboost.core.CatBoostRegressor object at 0x000001CC5E447F70&gt;</pre></div></div></div></div></div></div></div>"
      ],
      "text/plain": [
       "Pipeline(steps=[('preprocessor',\n",
       "                 ColumnTransformer(transformers=[('binary',\n",
       "                                                  BinaryEncoder(binary_columns=['mainroad',\n",
       "                                                                                'guestroom',\n",
       "                                                                                'basement',\n",
       "                                                                                'hotwaterheating',\n",
       "                                                                                'airconditioning',\n",
       "                                                                                'prefarea']),\n",
       "                                                  ['mainroad', 'guestroom',\n",
       "                                                   'basement',\n",
       "                                                   'hotwaterheating',\n",
       "                                                   'airconditioning',\n",
       "                                                   'prefarea']),\n",
       "                                                 ('cat', OneHotEncoder(),\n",
       "                                                  ['furnishingstatus']),\n",
       "                                                 ('num', StandardScaler(),\n",
       "                                                  ['area', 'bedrooms',\n",
       "                                                   'bathrooms', 'stories',\n",
       "                                                   'parking'])])),\n",
       "                ('regressor',\n",
       "                 <catboost.core.CatBoostRegressor object at 0x000001CC5E447F70>)])"
      ]
     },
     "execution_count": 17,
     "metadata": {},
     "output_type": "execute_result"
    }
   ],
   "source": [
    "best_model = grid_search.best_estimator_\n",
    "best_model"
   ]
  },
  {
   "cell_type": "code",
   "execution_count": 18,
   "metadata": {},
   "outputs": [],
   "source": [
    "from sklearn.metrics import mean_absolute_error\n",
    "from sklearn.metrics import mean_absolute_percentage_error\n",
    "from sklearn.metrics import mean_squared_error"
   ]
  },
  {
   "cell_type": "code",
   "execution_count": 19,
   "metadata": {},
   "outputs": [],
   "source": [
    "preds = best_model.predict(X_test)"
   ]
  },
  {
   "cell_type": "code",
   "execution_count": 20,
   "metadata": {},
   "outputs": [
    {
     "name": "stdout",
     "output_type": "stream",
     "text": [
      "Тестовая средння абсолютная ошибка: 341696.7728496742\n",
      "Тестовая среднеквадратичная ошибка: 218746992811.38742\n",
      "Тестовая средння абсолютная процентная ошибка: 8.613054865080073%\n",
      "Тестовое отношение mae к среднему: 7.19809313332189%\n",
      "Тестовое средняя цена: 4747045.731707317\n"
     ]
    }
   ],
   "source": [
    "print('Тестовая средння абсолютная ошибка: {}'.format(mean_absolute_error(y_test,preds)))\n",
    "print('Тестовая среднеквадратичная ошибка: {}'.format(mean_squared_error(y_test,preds)))\n",
    "print('Тестовая средння абсолютная процентная ошибка: {}%'.format(mean_absolute_percentage_error(y_test,preds)*100))\n",
    "print('Тестовое отношение mae к среднему: {}%'.format((mean_absolute_error(y_test,preds)/y_test.mean())*100))\n",
    "print('Тестовое средняя цена: {}'.format(y_test.mean()))"
   ]
  },
  {
   "cell_type": "markdown",
   "metadata": {},
   "source": [
    "Сохраняем"
   ]
  },
  {
   "cell_type": "code",
   "execution_count": 21,
   "metadata": {},
   "outputs": [],
   "source": [
    "preprocessor_trained = best_model[0]\n",
    "ct_trained = best_model[1]"
   ]
  },
  {
   "cell_type": "code",
   "execution_count": 22,
   "metadata": {},
   "outputs": [],
   "source": [
    "with open(\"prepocess.pkl\", \"wb\") as file:\n",
    "    pickle.dump(preprocessor_trained, file)\n",
    "\n",
    "ct_trained.save_model(\"ct_regr.ct\")"
   ]
  },
  {
   "cell_type": "markdown",
   "metadata": {},
   "source": [
    "Читаем"
   ]
  },
  {
   "cell_type": "code",
   "execution_count": 23,
   "metadata": {},
   "outputs": [],
   "source": [
    "with open(\"prepocess.pkl\", \"rb\") as file:\n",
    "    preprocessor_loaded = pickle.load(file)"
   ]
  },
  {
   "cell_type": "code",
   "execution_count": 24,
   "metadata": {},
   "outputs": [
    {
     "data": {
      "text/plain": [
       "<catboost.core.CatBoostRegressor at 0x1cc5e21bf40>"
      ]
     },
     "execution_count": 24,
     "metadata": {},
     "output_type": "execute_result"
    }
   ],
   "source": [
    "ct_reg_read = ct.CatBoostRegressor(random_state=1, allow_writing_files=False, thread_count=-1, verbose=False)\n",
    "ct_reg_read.load_model(\"ct_regr.ct\")"
   ]
  },
  {
   "cell_type": "markdown",
   "metadata": {},
   "source": [
    "Проверяем"
   ]
  },
  {
   "cell_type": "code",
   "execution_count": 25,
   "metadata": {},
   "outputs": [],
   "source": [
    "preds_loaded = ct_reg_read.predict(preprocessor_loaded.transform(X_test))"
   ]
  },
  {
   "cell_type": "code",
   "execution_count": 26,
   "metadata": {},
   "outputs": [
    {
     "name": "stdout",
     "output_type": "stream",
     "text": [
      "Тестовая средння абсолютная ошибка: 341696.7728496742 | 341696.7728496742\n",
      "Тестовая среднеквадратичная ошибка: 218746992811.38742 | 218746992811.38742\n",
      "Тестовая средння абсолютная процентная ошибка: 8.613054865080073 | 8.613054865080073%\n",
      "Тестовое отношение mae к среднему: 7.19809313332189 | 7.19809313332189%\n",
      "Тестовое средняя цена: 4747045.731707317\n"
     ]
    }
   ],
   "source": [
    "print('Тестовая средння абсолютная ошибка: {} | {}'.format(mean_absolute_error(y_test,preds),mean_absolute_error(y_test,preds_loaded)))\n",
    "print('Тестовая среднеквадратичная ошибка: {} | {}'.format(mean_squared_error(y_test,preds),mean_squared_error(y_test,preds_loaded)))\n",
    "print('Тестовая средння абсолютная процентная ошибка: {} | {}%'.format(mean_absolute_percentage_error(y_test,preds)*100,mean_absolute_percentage_error(y_test,preds_loaded)*100))\n",
    "print('Тестовое отношение mae к среднему: {} | {}%'.format((mean_absolute_error(y_test,preds)/y_test.mean())*100,(mean_absolute_error(y_test,preds_loaded)/y_test.mean())*100))\n",
    "print('Тестовое средняя цена: {}'.format(y_test.mean()))"
   ]
  }
 ],
 "metadata": {
  "kernelspec": {
   "display_name": "base",
   "language": "python",
   "name": "python3"
  },
  "language_info": {
   "codemirror_mode": {
    "name": "ipython",
    "version": 3
   },
   "file_extension": ".py",
   "mimetype": "text/x-python",
   "name": "python",
   "nbconvert_exporter": "python",
   "pygments_lexer": "ipython3",
   "version": "3.9.18"
  }
 },
 "nbformat": 4,
 "nbformat_minor": 2
}
